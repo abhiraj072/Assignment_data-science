{
  "nbformat": 4,
  "nbformat_minor": 0,
  "metadata": {
    "colab": {
      "provenance": []
    },
    "kernelspec": {
      "name": "python3",
      "display_name": "Python 3"
    },
    "language_info": {
      "name": "python"
    }
  },
  "cells": [
    {
      "cell_type": "markdown",
      "source": [
        "**TASK-2**"
      ],
      "metadata": {
        "id": "_fFum4oiaZj7"
      }
    },
    {
      "cell_type": "markdown",
      "source": [
        "Step 1: Understand the Data\n",
        "To build the Lookalike Model\n"
      ],
      "metadata": {
        "id": "97fZ5Kejaf17"
      }
    },
    {
      "cell_type": "code",
      "execution_count": 2,
      "metadata": {
        "id": "M5-uJ6O6Z_HG"
      },
      "outputs": [],
      "source": [
        "import pandas as pd\n",
        "from sklearn.metrics.pairwise import cosine_similarity\n",
        "from sklearn.preprocessing import MinMaxScaler\n"
      ]
    },
    {
      "cell_type": "code",
      "source": [
        "# Load datasets\n",
        "customers = pd.read_csv('Customers.csv')\n",
        "products = pd.read_csv('Products.csv')\n",
        "transactions = pd.read_csv('Transactions.csv')\n",
        "\n",
        "# Merge datasets for complete information\n",
        "customer_transactions = pd.merge(transactions, customers, on='CustomerID', how='left')\n",
        "merged_data = pd.merge(customer_transactions, products, on='ProductID', how='left')\n",
        "\n",
        "# Filter for the first 20 customers (C0001 to C0020)\n",
        "selected_customers = customers[customers['CustomerID'].isin([f'C{str(i).zfill(4)}' for i in range(1, 21)])]"
      ],
      "metadata": {
        "id": "jB7wVfaPaz3E"
      },
      "execution_count": 3,
      "outputs": []
    },
    {
      "cell_type": "markdown",
      "source": [
        "Step 3: Feature Engineering\n",
        "We create a feature matrix for customer similarity:\n",
        "\n",
        "Transaction Features:\n",
        "  -Total spending per customer.\n",
        "  -Total quantity purchased.\n",
        "  -Popular categories purchased.\n",
        "Customer Profile Features:\n",
        "    -One-hot encoding for Region.\n",
        "    -Time since signup (days_since_signup)."
      ],
      "metadata": {
        "id": "PDWhwpFsa7VR"
      }
    },
    {
      "cell_type": "code",
      "source": [
        "from datetime import datetime\n",
        "\n",
        "# Calculate total spending and quantity per customer\n",
        "customer_features = merged_data.groupby('CustomerID').agg({\n",
        "    'TotalValue': 'sum',\n",
        "    'Quantity': 'sum',\n",
        "    'Category': lambda x: x.value_counts().index[0],  # Most purchased category\n",
        "}).reset_index()"
      ],
      "metadata": {
        "id": "Qc2GwecGbOeS"
      },
      "execution_count": 4,
      "outputs": []
    },
    {
      "cell_type": "code",
      "source": [
        "# Add customer profile features\n",
        "customer_features = pd.merge(customer_features, customers, on='CustomerID')\n",
        "customer_features['SignupDate'] = pd.to_datetime(customer_features['SignupDate'])\n",
        "customer_features['days_since_signup'] = (datetime.now() - customer_features['SignupDate']).dt.days"
      ],
      "metadata": {
        "id": "9PP6M51lbY2B"
      },
      "execution_count": 5,
      "outputs": []
    },
    {
      "cell_type": "code",
      "source": [
        "# One-hot encode 'Region'\n",
        "customer_features = pd.get_dummies(customer_features, columns=['Region'], drop_first=True)\n",
        "\n",
        "# Normalize numerical features\n",
        "scaler = MinMaxScaler()\n",
        "numerical_features = ['TotalValue', 'Quantity', 'days_since_signup']\n",
        "customer_features[numerical_features] = scaler.fit_transform(customer_features[numerical_features])"
      ],
      "metadata": {
        "id": "URjX1LYHbfN6"
      },
      "execution_count": 6,
      "outputs": []
    },
    {
      "cell_type": "markdown",
      "source": [
        "We calculate similarity scores using Cosine Similarity between customers."
      ],
      "metadata": {
        "id": "SUlMva7TbtKu"
      }
    },
    {
      "cell_type": "code",
      "source": [
        "# Create a similarity matrix\n",
        "feature_matrix = customer_features.drop(['CustomerID', 'CustomerName', 'SignupDate', 'Category'], axis=1)\n",
        "similarity_matrix = cosine_similarity(feature_matrix)\n",
        "\n",
        "# Map similarity scores for the first 20 customers\n",
        "lookalike_map = {}\n",
        "customer_ids = customer_features['CustomerID'].tolist()\n",
        "\n",
        "for i, cust_id in enumerate(customer_ids[:20]):\n",
        "    # Get similarity scores for the current customer\n",
        "    similarities = list(enumerate(similarity_matrix[i]))\n",
        "    # Sort by similarity score (excluding self-comparison)\n",
        "    sorted_similarities = sorted(similarities, key=lambda x: x[1], reverse=True)[1:4]\n",
        "    # Map top 3 similar customers with scores\n",
        "    lookalike_map[cust_id] = [(customer_ids[j], score) for j, score in sorted_similarities]\n",
        "\n",
        "# Convert to DataFrame for Lookalike.csv\n",
        "lookalike_df = pd.DataFrame([\n",
        "    {'CustomerID': cust_id, 'Lookalike_1': top_3[0][0], 'Score_1': top_3[0][1],\n",
        "     'Lookalike_2': top_3[1][0], 'Score_2': top_3[1][1],\n",
        "     'Lookalike_3': top_3[2][0], 'Score_3': top_3[2][1]}\n",
        "    for cust_id, top_3 in lookalike_map.items()\n",
        "])\n",
        "\n",
        "lookalike_df.to_csv('Lookalike.csv', index=False)\n",
        "print(\"Lookalike.csv generated successfully.\")\n"
      ],
      "metadata": {
        "colab": {
          "base_uri": "https://localhost:8080/"
        },
        "id": "gj9lPOVQboax",
        "outputId": "9dce2ebe-1842-4177-fdfa-e05d5d3bcd61"
      },
      "execution_count": 7,
      "outputs": [
        {
          "output_type": "stream",
          "name": "stdout",
          "text": [
            "Lookalike.csv generated successfully.\n"
          ]
        }
      ]
    },
    {
      "cell_type": "markdown",
      "source": [
        "Evaluation Criteria\n",
        "Model Accuracy and Logic:\n",
        "\n",
        "1. Used customer profile and transaction history for meaningful comparisons.\n",
        "Normalized features and applied cosine similarity for scalable recommendations.\n",
        "2. Quality of Recommendations:\n",
        "\n",
        "    Assigned similarity scores to highlight confidence in recommendations.\n",
        "    Focused on both quantitative (spending, frequency) and qualitative (region, category) features."
      ],
      "metadata": {
        "id": "PZDZfYkHcyRI"
      }
    },
    {
      "cell_type": "code",
      "source": [],
      "metadata": {
        "id": "R7r674Znc_j7"
      },
      "execution_count": null,
      "outputs": []
    }
  ]
}